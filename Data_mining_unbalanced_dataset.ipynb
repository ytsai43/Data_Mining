{
 "cells": [
  {
   "cell_type": "code",
   "execution_count": 1,
   "metadata": {
    "collapsed": true
   },
   "outputs": [],
   "source": [
    "import numpy as np\n",
    "import pandas as pd\n",
    "import matplotlib.pyplot as plt\n",
    "import seaborn as sns\n",
    "from scipy import stats\n",
    "%matplotlib inline"
   ]
  },
  {
   "cell_type": "code",
   "execution_count": 2,
   "metadata": {
    "collapsed": true
   },
   "outputs": [],
   "source": [
    "'''the import data has no header'''\n",
    "df = pd.read_csv('IEE520_Train2017Labeled.csv',header=None)\n",
    "df.columns = df.columns.astype(str)  # in order to call the specific column"
   ]
  },
  {
   "cell_type": "markdown",
   "metadata": {},
   "source": [
    "## Encode Target class"
   ]
  },
  {
   "cell_type": "code",
   "execution_count": 3,
   "metadata": {
    "collapsed": true
   },
   "outputs": [],
   "source": [
    "from sklearn.preprocessing import LabelEncoder\n",
    "le = LabelEncoder()\n",
    "le.fit(df['40'])\n",
    "df['40'] = le.transform(df['40'])\n"
   ]
  },
  {
   "cell_type": "markdown",
   "metadata": {},
   "source": [
    "## Preprocess Null data, fill mode by each column"
   ]
  },
  {
   "cell_type": "code",
   "execution_count": 4,
   "metadata": {
    "scrolled": true
   },
   "outputs": [
    {
     "data": {
      "text/html": [
       "<div>\n",
       "<style>\n",
       "    .dataframe thead tr:only-child th {\n",
       "        text-align: right;\n",
       "    }\n",
       "\n",
       "    .dataframe thead th {\n",
       "        text-align: left;\n",
       "    }\n",
       "\n",
       "    .dataframe tbody tr th {\n",
       "        vertical-align: top;\n",
       "    }\n",
       "</style>\n",
       "<table border=\"1\" class=\"dataframe\">\n",
       "  <thead>\n",
       "    <tr style=\"text-align: right;\">\n",
       "      <th></th>\n",
       "      <th>0</th>\n",
       "      <th>1</th>\n",
       "      <th>2</th>\n",
       "      <th>3</th>\n",
       "      <th>4</th>\n",
       "      <th>5</th>\n",
       "      <th>6</th>\n",
       "      <th>7</th>\n",
       "      <th>8</th>\n",
       "      <th>9</th>\n",
       "      <th>...</th>\n",
       "      <th>31</th>\n",
       "      <th>32</th>\n",
       "      <th>33</th>\n",
       "      <th>34</th>\n",
       "      <th>35</th>\n",
       "      <th>36</th>\n",
       "      <th>37</th>\n",
       "      <th>38</th>\n",
       "      <th>39</th>\n",
       "      <th>40</th>\n",
       "    </tr>\n",
       "  </thead>\n",
       "  <tbody>\n",
       "    <tr>\n",
       "      <th>0</th>\n",
       "      <td>390.7818</td>\n",
       "      <td>0.0</td>\n",
       "      <td>0.0</td>\n",
       "      <td>0.0</td>\n",
       "      <td>0.0</td>\n",
       "      <td>0.0</td>\n",
       "      <td>0.0</td>\n",
       "      <td>0.0</td>\n",
       "      <td>0.0</td>\n",
       "      <td>0.0</td>\n",
       "      <td>...</td>\n",
       "      <td>6.226</td>\n",
       "      <td>0.0</td>\n",
       "      <td>1.0</td>\n",
       "      <td>0.0</td>\n",
       "      <td>1.0</td>\n",
       "      <td>0.0</td>\n",
       "      <td>0.0</td>\n",
       "      <td>2.760</td>\n",
       "      <td>1.0</td>\n",
       "      <td>2.0</td>\n",
       "    </tr>\n",
       "    <tr>\n",
       "      <th>1</th>\n",
       "      <td>369.0717</td>\n",
       "      <td>0.0</td>\n",
       "      <td>0.0</td>\n",
       "      <td>0.0</td>\n",
       "      <td>0.0</td>\n",
       "      <td>1.0</td>\n",
       "      <td>0.0</td>\n",
       "      <td>0.0</td>\n",
       "      <td>0.0</td>\n",
       "      <td>0.0</td>\n",
       "      <td>...</td>\n",
       "      <td>1.132</td>\n",
       "      <td>0.0</td>\n",
       "      <td>0.0</td>\n",
       "      <td>0.0</td>\n",
       "      <td>0.0</td>\n",
       "      <td>0.0</td>\n",
       "      <td>1.0</td>\n",
       "      <td>0.825</td>\n",
       "      <td>2.0</td>\n",
       "      <td>1.0</td>\n",
       "    </tr>\n",
       "    <tr>\n",
       "      <th>2</th>\n",
       "      <td>354.5983</td>\n",
       "      <td>0.0</td>\n",
       "      <td>0.0</td>\n",
       "      <td>0.0</td>\n",
       "      <td>0.0</td>\n",
       "      <td>0.0</td>\n",
       "      <td>0.0</td>\n",
       "      <td>0.0</td>\n",
       "      <td>0.0</td>\n",
       "      <td>0.0</td>\n",
       "      <td>...</td>\n",
       "      <td>6.671</td>\n",
       "      <td>0.0</td>\n",
       "      <td>1.0</td>\n",
       "      <td>1.0</td>\n",
       "      <td>1.0</td>\n",
       "      <td>0.0</td>\n",
       "      <td>0.0</td>\n",
       "      <td>1.791</td>\n",
       "      <td>3.0</td>\n",
       "      <td>1.0</td>\n",
       "    </tr>\n",
       "    <tr>\n",
       "      <th>3</th>\n",
       "      <td>499.3323</td>\n",
       "      <td>0.0</td>\n",
       "      <td>0.0</td>\n",
       "      <td>0.0</td>\n",
       "      <td>0.0</td>\n",
       "      <td>0.0</td>\n",
       "      <td>0.0</td>\n",
       "      <td>0.0</td>\n",
       "      <td>0.0</td>\n",
       "      <td>0.0</td>\n",
       "      <td>...</td>\n",
       "      <td>2.436</td>\n",
       "      <td>0.0</td>\n",
       "      <td>0.0</td>\n",
       "      <td>1.0</td>\n",
       "      <td>1.0</td>\n",
       "      <td>1.0</td>\n",
       "      <td>1.0</td>\n",
       "      <td>4.586</td>\n",
       "      <td>5.0</td>\n",
       "      <td>2.0</td>\n",
       "    </tr>\n",
       "    <tr>\n",
       "      <th>4</th>\n",
       "      <td>448.6754</td>\n",
       "      <td>1.0</td>\n",
       "      <td>0.0</td>\n",
       "      <td>0.0</td>\n",
       "      <td>0.0</td>\n",
       "      <td>0.0</td>\n",
       "      <td>0.0</td>\n",
       "      <td>0.0</td>\n",
       "      <td>0.0</td>\n",
       "      <td>0.0</td>\n",
       "      <td>...</td>\n",
       "      <td>5.125</td>\n",
       "      <td>0.0</td>\n",
       "      <td>1.0</td>\n",
       "      <td>0.0</td>\n",
       "      <td>0.0</td>\n",
       "      <td>1.0</td>\n",
       "      <td>1.0</td>\n",
       "      <td>3.699</td>\n",
       "      <td>2.0</td>\n",
       "      <td>1.0</td>\n",
       "    </tr>\n",
       "  </tbody>\n",
       "</table>\n",
       "<p>5 rows × 41 columns</p>\n",
       "</div>"
      ],
      "text/plain": [
       "          0    1    2    3    4    5    6    7    8    9 ...      31   32  \\\n",
       "0  390.7818  0.0  0.0  0.0  0.0  0.0  0.0  0.0  0.0  0.0 ...   6.226  0.0   \n",
       "1  369.0717  0.0  0.0  0.0  0.0  1.0  0.0  0.0  0.0  0.0 ...   1.132  0.0   \n",
       "2  354.5983  0.0  0.0  0.0  0.0  0.0  0.0  0.0  0.0  0.0 ...   6.671  0.0   \n",
       "3  499.3323  0.0  0.0  0.0  0.0  0.0  0.0  0.0  0.0  0.0 ...   2.436  0.0   \n",
       "4  448.6754  1.0  0.0  0.0  0.0  0.0  0.0  0.0  0.0  0.0 ...   5.125  0.0   \n",
       "\n",
       "    33   34   35   36   37     38   39   40  \n",
       "0  1.0  0.0  1.0  0.0  0.0  2.760  1.0  2.0  \n",
       "1  0.0  0.0  0.0  0.0  1.0  0.825  2.0  1.0  \n",
       "2  1.0  1.0  1.0  0.0  0.0  1.791  3.0  1.0  \n",
       "3  0.0  1.0  1.0  1.0  1.0  4.586  5.0  2.0  \n",
       "4  1.0  0.0  0.0  1.0  1.0  3.699  2.0  1.0  \n",
       "\n",
       "[5 rows x 41 columns]"
      ]
     },
     "execution_count": 4,
     "metadata": {},
     "output_type": "execute_result"
    }
   ],
   "source": [
    "df.replace('?',np.nan,inplace=True)\n",
    "df = df.astype(float)\n",
    "df.fillna(df.mode(0).iloc[0],inplace=True).head()  #df.mode will return a dataframe, the first row is the mode and others are NaN"
   ]
  },
  {
   "cell_type": "markdown",
   "metadata": {},
   "source": [
    "## Investigate the distribution of the training set"
   ]
  },
  {
   "cell_type": "code",
   "execution_count": 5,
   "metadata": {},
   "outputs": [
    {
     "name": "stdout",
     "output_type": "stream",
     "text": [
      "[0,1,2] = ['TYPE0' 'TYPE1' 'TYPE2']\n",
      "0.0    3694\n",
      "1.0    1600\n",
      "2.0     842\n",
      "Name: 40, dtype: int64\n"
     ]
    },
    {
     "name": "stderr",
     "output_type": "stream",
     "text": [
      "C:\\Users\\ytsai\\Anaconda3\\lib\\site-packages\\sklearn\\preprocessing\\label.py:151: DeprecationWarning: The truth value of an empty array is ambiguous. Returning False, but in future this will result in an error. Use `array.size > 0` to check that an array is not empty.\n",
      "  if diff:\n"
     ]
    },
    {
     "data": {
      "image/png": "[encoded data removed]",
      "text/plain": [
       "<matplotlib.figure.Figure at 0x20489d60a20>"
      ]
     },
     "metadata": {},
     "output_type": "display_data"
    }
   ],
   "source": [
    "df['40'].value_counts().plot(kind='bar',title='Count (target)')\n",
    "plt.xlabel('class')\n",
    "plt.ylabel('counts')\n",
    "print('[0,1,2] =',le.inverse_transform([0,1,2]))\n",
    "print(df['40'].value_counts())"
   ]
  },
  {
   "cell_type": "markdown",
   "metadata": {},
   "source": [
    "## Split train and test before performing oversampling technique\n",
    "30% data are used for testing\n",
    "<br>\n",
    "70% data are used for training"
   ]
  },
  {
   "cell_type": "code",
   "execution_count": 6,
   "metadata": {},
   "outputs": [],
   "source": [
    "from sklearn.model_selection import train_test_split\n",
    "X_train, X_test, y_train, y_test = train_test_split(df.drop('40',1), df['40'], test_size=0.3, random_state=42)"
   ]
  },
  {
   "cell_type": "markdown",
   "metadata": {},
   "source": [
    "## Store each fold into list for next step(SMOTE)"
   ]
  },
  {
   "cell_type": "code",
   "execution_count": 7,
   "metadata": {
    "collapsed": true
   },
   "outputs": [],
   "source": [
    "from sklearn.model_selection import StratifiedKFold\n",
    "skf = StratifiedKFold(n_splits=5)\n",
    "fold_x = []\n",
    "fold_y = []\n",
    "for train_index, validate_index in skf.split(X_train,y_train):\n",
    "    fold_x.append(X_train.iloc[validate_index])\n",
    "    fold_y.append(y_train.iloc[validate_index])"
   ]
  },
  {
   "cell_type": "markdown",
   "metadata": {},
   "source": [
    "## Applied SMOTE on training data(exclude 1 fold for validation) manually\n",
    "to avoid validation data being affected by SMOTE, I manually applied SMOTE on training set at each fold \n",
    "- __Decision Tree__"
   ]
  },
  {
   "cell_type": "code",
   "execution_count": 8,
   "metadata": {},
   "outputs": [
    {
     "name": "stdout",
     "output_type": "stream",
     "text": [
      "[[1764.  587.  248.]\n",
      " [ 513.  455.  131.]\n",
      " [ 210.  109.  278.]]\n",
      "accuracy_estimation =  0.5813736903376019\n"
     ]
    }
   ],
   "source": [
    "from imblearn.over_sampling import SMOTE \n",
    "from sklearn.tree import DecisionTreeClassifier\n",
    "from sklearn.metrics import confusion_matrix,classification_report,accuracy_score\n",
    "\n",
    "all_confusion_matrix = np.zeros([3,3])\n",
    "for left_out in range(5):\n",
    "    temp_fold_x = fold_x.copy()\n",
    "    temp_fold_y = fold_y.copy()\n",
    "    validation_x = temp_fold_x[left_out].copy()\n",
    "    validation_y = temp_fold_y[left_out].copy()\n",
    "    del temp_fold_x[left_out]\n",
    "    del temp_fold_y[left_out]\n",
    "    upsample_data = SMOTE().fit_sample(pd.concat(temp_fold_x),pd.concat(temp_fold_y))\n",
    "    train_fold_x = pd.DataFrame(upsample_data[0])\n",
    "    train_fold_y = upsample_data[1]\n",
    "    model_tree = DecisionTreeClassifier()\n",
    "    model_tree.fit(train_fold_x,train_fold_y)\n",
    "    predict_tree = model_tree.predict(validation_x)\n",
    "    all_confusion_matrix += confusion_matrix(validation_y,predict_tree)\n",
    "print(all_confusion_matrix)\n",
    "print('accuracy_estimation = ', (all_confusion_matrix[0,0]+all_confusion_matrix[1,1]+all_confusion_matrix[2,2])/np.sum(all_confusion_matrix))"
   ]
  },
  {
   "cell_type": "markdown",
   "metadata": {},
   "source": [
    "- __SVM__"
   ]
  },
  {
   "cell_type": "code",
   "execution_count": 14,
   "metadata": {},
   "outputs": [
    {
     "name": "stdout",
     "output_type": "stream",
     "text": [
      "[[2337.  163.   99.]\n",
      " [ 957.   99.   43.]\n",
      " [ 524.   36.   37.]]\n",
      "accuracy_estimation =  0.5757857974388825\n"
     ]
    }
   ],
   "source": [
    "from imblearn.over_sampling import SMOTE \n",
    "from sklearn.svm import SVC\n",
    "from sklearn.metrics import confusion_matrix,classification_report,accuracy_score\n",
    "\n",
    "all_confusion_matrix = np.zeros([3,3])\n",
    "for left_out in range(5):\n",
    "    temp_fold_x = fold_x.copy()\n",
    "    temp_fold_y = fold_y.copy()\n",
    "    validation_x = temp_fold_x[left_out].copy()\n",
    "    validation_y = temp_fold_y[left_out].copy()\n",
    "    del temp_fold_x[left_out]\n",
    "    del temp_fold_y[left_out]\n",
    "    upsample_data = SMOTE().fit_sample(pd.concat(temp_fold_x),pd.concat(temp_fold_y))\n",
    "    train_fold_x = pd.DataFrame(upsample_data[0])\n",
    "    train_fold_y = upsample_data[1]\n",
    "    model_SVM = SVC()\n",
    "    model_SVM.fit(train_fold_x,train_fold_y)\n",
    "    predict_SVM = model_SVM.predict(validation_x)\n",
    "    all_confusion_matrix += confusion_matrix(validation_y,predict_SVM)\n",
    "print(all_confusion_matrix)\n",
    "print('accuracy_estimation = ', (all_confusion_matrix[0,0]+all_confusion_matrix[1,1]+all_confusion_matrix[2,2])/np.sum(all_confusion_matrix))"
   ]
  },
  {
   "cell_type": "markdown",
   "metadata": {},
   "source": [
    "## Tuning Random Forest  (undersampling)\n",
    "I use OOB error to estimate the model performance.\n",
    "<br>\n",
    "To avoid the SMOTE data misleading the error rate, I used undersampling to handle unbalanced_dataset "
   ]
  },
  {
   "cell_type": "code",
   "execution_count": 27,
   "metadata": {},
   "outputs": [
    {
     "name": "stdout",
     "output_type": "stream",
     "text": [
      "[0,1,2] = ['TYPE0' 'TYPE1' 'TYPE2']\n",
      "2.0    597\n",
      "1.0    597\n",
      "0.0    597\n",
      "dtype: int64\n"
     ]
    },
    {
     "name": "stderr",
     "output_type": "stream",
     "text": [
      "C:\\Users\\ytsai\\Anaconda3\\lib\\site-packages\\sklearn\\preprocessing\\label.py:151: DeprecationWarning: The truth value of an empty array is ambiguous. Returning False, but in future this will result in an error. Use `array.size > 0` to check that an array is not empty.\n",
      "  if diff:\n"
     ]
    },
    {
     "data": {
      "image/png": "[encoded data removed]",
      "text/plain": [
       "<matplotlib.figure.Figure at 0x2048da6bcc0>"
      ]
     },
     "metadata": {},
     "output_type": "display_data"
    }
   ],
   "source": [
    "from imblearn.under_sampling import RandomUnderSampler\n",
    "from sklearn.ensemble import RandomForestClassifier\n",
    "undersample_data = RandomUnderSampler().fit_sample(X_train,y_train)\n",
    "pd.Series(undersample_data[1]).value_counts().plot(kind='bar',title='Count (target)')\n",
    "plt.xlabel('class')\n",
    "plt.ylabel('counts')\n",
    "print('[0,1,2] =',le.inverse_transform([0,1,2]))\n",
    "print(pd.Series(undersample_data[1]).value_counts())"
   ]
  },
  {
   "cell_type": "code",
   "execution_count": 28,
   "metadata": {},
   "outputs": [
    {
     "name": "stdout",
     "output_type": "stream",
     "text": [
      "OOB score (accuracy): 0.66220\n",
      "Grid: {'max_depth': 15, 'max_features': 6, 'n_estimators': 500}\n"
     ]
    }
   ],
   "source": [
    "from sklearn.grid_search import ParameterGrid\n",
    "param_grid = {'max_depth':[None,5,10,15,20],'max_features':[3,5,6,7,9],'n_estimators':[100,150,300,450,500]}\n",
    "\n",
    "best_score = 0\n",
    "for g in ParameterGrid(param_grid):\n",
    "    rf = RandomForestClassifier(oob_score=True)\n",
    "    rf.set_params(**g)\n",
    "    rf.fit(undersample_data[0],undersample_data[1])\n",
    "    # save if best\n",
    "    if rf.oob_score_ > best_score:\n",
    "        best_score = rf.oob_score_\n",
    "        best_grid = g\n",
    "\n",
    "print (\"OOB score (accuracy): %0.5f\" % best_score) \n",
    "print (\"Grid:\", best_grid)"
   ]
  },
  {
   "cell_type": "code",
   "execution_count": 136,
   "metadata": {},
   "outputs": [],
   "source": []
  },
  {
   "cell_type": "markdown",
   "metadata": {},
   "source": [
    "## Model accuracy comparison:\n",
    "- __Decision Tree__\n",
    "- __SVM__\n",
    "- __Random Forest__"
   ]
  },
  {
   "cell_type": "code",
   "execution_count": 37,
   "metadata": {},
   "outputs": [
    {
     "name": "stdout",
     "output_type": "stream",
     "text": [
      "[[759 233 103]\n",
      " [209 232  60]\n",
      " [104  36 105]]\n",
      "0.5953286257468767\n"
     ]
    }
   ],
   "source": [
    "#  Decision Tree\n",
    "upsampling_train= SMOTE().fit_sample(X_train,y_train)\n",
    "model_tree = DecisionTreeClassifier()\n",
    "model_tree.fit(upsampling_train[0],upsampling_train[1])\n",
    "tree_test_prediction = model_tree.predict(X_test)\n",
    "print(confusion_matrix(y_test,tree_test_prediction))\n",
    "print(accuracy_score(y_test,tree_test_prediction))"
   ]
  },
  {
   "cell_type": "code",
   "execution_count": 38,
   "metadata": {},
   "outputs": [
    {
     "name": "stdout",
     "output_type": "stream",
     "text": [
      "[[979  71  45]\n",
      " [407  67  27]\n",
      " [207  18  20]]\n",
      "0.579033134166214\n"
     ]
    }
   ],
   "source": [
    "#  SVM\n",
    "upsampling_train= SMOTE().fit_sample(X_train,y_train)\n",
    "model_SVM = SVC()\n",
    "model_SVM.fit(upsampling_train[0],upsampling_train[1])\n",
    "SVM_test_prediction = model_SVM.predict(X_test)\n",
    "print(confusion_matrix(y_test,SVM_test_prediction))\n",
    "print(accuracy_score(y_test,SVM_test_prediction))"
   ]
  },
  {
   "cell_type": "code",
   "execution_count": 39,
   "metadata": {},
   "outputs": [
    {
     "name": "stdout",
     "output_type": "stream",
     "text": [
      "[[636 280 179]\n",
      " [ 66 359  76]\n",
      " [ 36  41 168]]\n",
      "0.6317218902770234\n"
     ]
    }
   ],
   "source": [
    "#  Random Forest\n",
    "undersample_train = RandomUnderSampler().fit_sample(X_train,y_train)\n",
    "model_rf = RandomForestClassifier(oob_score=True,max_depth=15, max_features=6, n_estimators= 500)\n",
    "model_rf.fit(undersample_train[0],undersample_train[1])\n",
    "rf_test_prediction = model_rf.predict(X_test)\n",
    "print(confusion_matrix(y_test,rf_test_prediction))\n",
    "print(accuracy_score(y_test,rf_test_prediction))"
   ]
  },
  {
   "cell_type": "code",
   "execution_count": 50,
   "metadata": {},
   "outputs": [
    {
     "data": {
      "text/html": [
       "<div>\n",
       "<style>\n",
       "    .dataframe thead tr:only-child th {\n",
       "        text-align: right;\n",
       "    }\n",
       "\n",
       "    .dataframe thead th {\n",
       "        text-align: left;\n",
       "    }\n",
       "\n",
       "    .dataframe tbody tr th {\n",
       "        vertical-align: top;\n",
       "    }\n",
       "</style>\n",
       "<table border=\"1\" class=\"dataframe\">\n",
       "  <thead>\n",
       "    <tr style=\"text-align: right;\">\n",
       "      <th></th>\n",
       "      <th>RF</th>\n",
       "      <th>SVM</th>\n",
       "      <th>tree</th>\n",
       "    </tr>\n",
       "  </thead>\n",
       "  <tbody>\n",
       "    <tr>\n",
       "      <th>accuracy</th>\n",
       "      <td>0.632</td>\n",
       "      <td>0.579</td>\n",
       "      <td>0.595</td>\n",
       "    </tr>\n",
       "  </tbody>\n",
       "</table>\n",
       "</div>"
      ],
      "text/plain": [
       "             RF    SVM   tree\n",
       "accuracy  0.632  0.579  0.595"
      ]
     },
     "execution_count": 50,
     "metadata": {},
     "output_type": "execute_result"
    }
   ],
   "source": [
    "pd.DataFrame({'tree':[0.595],'SVM':[0.579],'RF':[0.632]},index=['accuracy'])"
   ]
  },
  {
   "cell_type": "code",
   "execution_count": null,
   "metadata": {
    "collapsed": true
   },
   "outputs": [],
   "source": []
  }
 ],
 "metadata": {
  "kernelspec": {
   "display_name": "Python 3",
   "language": "python",
   "name": "python3"
  },
  "language_info": {
   "codemirror_mode": {
    "name": "ipython",
    "version": 3
   },
   "file_extension": ".py",
   "mimetype": "text/x-python",
   "name": "python",
   "nbconvert_exporter": "python",
   "pygments_lexer": "ipython3",
   "version": "3.6.1"
  }
 },
 "nbformat": 4,
 "nbformat_minor": 2
}
